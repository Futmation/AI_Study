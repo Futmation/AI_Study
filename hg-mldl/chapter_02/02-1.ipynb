{
 "cells": [
  {
   "cell_type": "code",
   "id": "initial_id",
   "metadata": {
    "collapsed": true,
    "ExecuteTime": {
     "end_time": "2024-05-01T08:14:04.173333Z",
     "start_time": "2024-05-01T08:14:04.167765Z"
    }
   },
   "source": [
    "fish_length = [25.4, 26.3, 26.5, 29.0, 29.0, 29.7, 29.7, 30.0, 30.0, 30.7, 31.0, 31.0, \n",
    "                31.5, 32.0, 32.0, 32.0, 33.0, 33.0, 33.5, 33.5, 34.0, 34.0, 34.5, 35.0, \n",
    "                35.0, 35.0, 35.0, 36.0, 36.0, 37.0, 38.5, 38.5, 39.5, 41.0, 41.0, 9.8, \n",
    "                10.5, 10.6, 11.0, 11.2, 11.3, 11.8, 11.8, 12.0, 12.2, 12.4, 13.0, 14.3, 15.0]\n",
    "fish_weight = [242.0, 290.0, 340.0, 363.0, 430.0, 450.0, 500.0, 390.0, 450.0, 500.0, 475.0, 500.0, \n",
    "                500.0, 340.0, 600.0, 600.0, 700.0, 700.0, 610.0, 650.0, 575.0, 685.0, 620.0, 680.0, \n",
    "                700.0, 725.0, 720.0, 714.0, 850.0, 1000.0, 920.0, 955.0, 925.0, 975.0, 950.0, 6.7, \n",
    "                7.5, 7.0, 9.7, 9.8, 8.7, 10.0, 9.9, 9.8, 12.2, 13.4, 12.2, 19.7, 19.9]"
   ],
   "execution_count": 1,
   "outputs": []
  },
  {
   "metadata": {
    "ExecuteTime": {
     "end_time": "2024-05-01T08:14:29.572254Z",
     "start_time": "2024-05-01T08:14:29.569228Z"
    }
   },
   "cell_type": "code",
   "source": [
    "fish_data = [[l, w] for l, w in zip(fish_length, fish_weight)]\n",
    "fish_target = [1]*35 + [0]*14"
   ],
   "id": "4d2ededd3f25ce17",
   "execution_count": 2,
   "outputs": []
  },
  {
   "metadata": {
    "ExecuteTime": {
     "end_time": "2024-05-01T08:18:49.086628Z",
     "start_time": "2024-05-01T08:18:48.805785Z"
    }
   },
   "cell_type": "code",
   "source": [
    "from sklearn.neighbors import KNeighborsClassifier\n",
    "kn = KNeighborsClassifier()"
   ],
   "id": "4339f8014e237d25",
   "execution_count": 3,
   "outputs": []
  },
  {
   "metadata": {
    "ExecuteTime": {
     "end_time": "2024-05-01T08:19:00.113024Z",
     "start_time": "2024-05-01T08:19:00.109308Z"
    }
   },
   "cell_type": "code",
   "source": "print(fish_data[4])",
   "id": "57d865ac0ff83db1",
   "execution_count": 4,
   "outputs": []
  },
  {
   "metadata": {
    "ExecuteTime": {
     "end_time": "2024-05-01T08:19:24.863833Z",
     "start_time": "2024-05-01T08:19:24.860427Z"
    }
   },
   "cell_type": "code",
   "source": "print(fish_data[0:5])",
   "id": "57ff183fdfdb0a7",
   "execution_count": 5,
   "outputs": []
  },
  {
   "metadata": {
    "ExecuteTime": {
     "end_time": "2024-05-01T08:19:51.311891Z",
     "start_time": "2024-05-01T08:19:51.308842Z"
    }
   },
   "cell_type": "code",
   "source": "print(fish_data[:5])",
   "id": "95dffa294da6ad29",
   "execution_count": 6,
   "outputs": []
  },
  {
   "metadata": {
    "ExecuteTime": {
     "end_time": "2024-05-01T08:20:03.911844Z",
     "start_time": "2024-05-01T08:20:03.908481Z"
    }
   },
   "cell_type": "code",
   "source": "print(fish_data[44:])",
   "id": "7ecdd64a84dda226",
   "execution_count": 7,
   "outputs": []
  },
  {
   "metadata": {
    "ExecuteTime": {
     "end_time": "2024-05-01T08:20:42.550837Z",
     "start_time": "2024-05-01T08:20:42.547686Z"
    }
   },
   "cell_type": "code",
   "source": [
    "train_input = fish_data[:35]\n",
    "train_target = fish_target[:35]\n",
    "test_input = fish_data[35:]\n",
    "test_target = fish_target[35:]"
   ],
   "id": "f02cc6e6d5fad191",
   "execution_count": 8,
   "outputs": []
  },
  {
   "metadata": {
    "ExecuteTime": {
     "end_time": "2024-05-01T08:21:23.833438Z",
     "start_time": "2024-05-01T08:21:23.822162Z"
    }
   },
   "cell_type": "code",
   "source": [
    "kn = kn.fit(train_input, train_target)\n",
    "kn.score(test_input, test_target)"
   ],
   "id": "49cfd854c8965c0a",
   "execution_count": 10,
   "outputs": []
  },
  {
   "metadata": {
    "ExecuteTime": {
     "end_time": "2024-05-01T08:23:51.038509Z",
     "start_time": "2024-05-01T08:23:51.035552Z"
    }
   },
   "cell_type": "code",
   "source": "import numpy as np",
   "id": "b4c76ce01e600930",
   "execution_count": 11,
   "outputs": []
  },
  {
   "metadata": {
    "ExecuteTime": {
     "end_time": "2024-05-01T08:24:16.814906Z",
     "start_time": "2024-05-01T08:24:16.812018Z"
    }
   },
   "cell_type": "code",
   "source": [
    "input_arr = np.array(fish_data)\n",
    "target_arr = np.array(fish_target)"
   ],
   "id": "593827f77d58399e",
   "execution_count": 12,
   "outputs": []
  },
  {
   "metadata": {
    "ExecuteTime": {
     "end_time": "2024-05-01T08:24:23.448027Z",
     "start_time": "2024-05-01T08:24:23.444243Z"
    }
   },
   "cell_type": "code",
   "source": "print(input_arr)",
   "id": "ee703d043f4143aa",
   "execution_count": 13,
   "outputs": []
  },
  {
   "metadata": {
    "ExecuteTime": {
     "end_time": "2024-05-01T08:25:31.842779Z",
     "start_time": "2024-05-01T08:25:31.839283Z"
    }
   },
   "cell_type": "code",
   "source": "print(input_arr.shape)",
   "id": "a07edbb6df7ea758",
   "execution_count": 14,
   "outputs": []
  },
  {
   "metadata": {
    "ExecuteTime": {
     "end_time": "2024-05-01T08:27:40.509637Z",
     "start_time": "2024-05-01T08:27:40.505718Z"
    }
   },
   "cell_type": "code",
   "source": [
    "np.random.seed(42)\n",
    "index = np.arange(49)\n",
    "np.random.shuffle(index)"
   ],
   "id": "78cc98842fe88005",
   "execution_count": 15,
   "outputs": []
  },
  {
   "metadata": {
    "ExecuteTime": {
     "end_time": "2024-05-01T08:27:54.133323Z",
     "start_time": "2024-05-01T08:27:54.130021Z"
    }
   },
   "cell_type": "code",
   "source": "print(index)",
   "id": "697878b7b7118151",
   "execution_count": 16,
   "outputs": []
  },
  {
   "metadata": {
    "ExecuteTime": {
     "end_time": "2024-05-01T08:28:28.454312Z",
     "start_time": "2024-05-01T08:28:28.450572Z"
    }
   },
   "cell_type": "code",
   "source": "print(input_arr[[1,3]])",
   "id": "74845802e89b0c4d",
   "execution_count": 17,
   "outputs": []
  },
  {
   "metadata": {
    "ExecuteTime": {
     "end_time": "2024-05-01T08:29:25.542339Z",
     "start_time": "2024-05-01T08:29:25.539120Z"
    }
   },
   "cell_type": "code",
   "source": [
    "train_input = input_arr[index[:35]]\n",
    "train_target = target_arr[index[:35]]"
   ],
   "id": "f0f3d844b49f9f1f",
   "execution_count": 18,
   "outputs": []
  },
  {
   "metadata": {
    "ExecuteTime": {
     "end_time": "2024-05-01T08:29:38.052828Z",
     "start_time": "2024-05-01T08:29:38.049172Z"
    }
   },
   "cell_type": "code",
   "source": "print(input_arr[13], train_input[0])",
   "id": "94ecccc5cc5b2605",
   "execution_count": 19,
   "outputs": []
  },
  {
   "metadata": {
    "ExecuteTime": {
     "end_time": "2024-05-01T08:30:24.140960Z",
     "start_time": "2024-05-01T08:30:24.138115Z"
    }
   },
   "cell_type": "code",
   "source": [
    "test_input = input_arr[index[35:]]\n",
    "test_target = target_arr[index[35:]]"
   ],
   "id": "fa3abfb719fe8198",
   "execution_count": 20,
   "outputs": []
  },
  {
   "metadata": {
    "ExecuteTime": {
     "end_time": "2024-05-01T08:31:33.030776Z",
     "start_time": "2024-05-01T08:31:32.707593Z"
    }
   },
   "cell_type": "code",
   "source": [
    "import matplotlib.pyplot as plt\n",
    "plt.scatter(train_input[:,0], train_input[:,1])\n",
    "plt.scatter(test_input[:,0], test_input[:,1])\n",
    "plt.xlabel('length')\n",
    "plt.ylabel('weight')\n",
    "plt.show()"
   ],
   "id": "d52955349601a01e",
   "execution_count": 21,
   "outputs": []
  },
  {
   "metadata": {
    "ExecuteTime": {
     "end_time": "2024-05-01T08:32:23.661596Z",
     "start_time": "2024-05-01T08:32:23.657487Z"
    }
   },
   "cell_type": "code",
   "source": "kn = kn.fit(train_input, train_target)",
   "id": "44f0b80efe803be4",
   "execution_count": 22,
   "outputs": []
  },
  {
   "metadata": {
    "ExecuteTime": {
     "end_time": "2024-05-01T08:32:40.392494Z",
     "start_time": "2024-05-01T08:32:40.383439Z"
    }
   },
   "cell_type": "code",
   "source": "kn.score(test_input, test_target)",
   "id": "44b1c5ab432becac",
   "execution_count": 23,
   "outputs": []
  },
  {
   "metadata": {
    "ExecuteTime": {
     "end_time": "2024-05-01T08:33:36.523813Z",
     "start_time": "2024-05-01T08:33:36.515820Z"
    }
   },
   "cell_type": "code",
   "source": "kn.predict(test_input)",
   "id": "f39fe46a626d7445",
   "execution_count": 25,
   "outputs": []
  },
  {
   "metadata": {
    "ExecuteTime": {
     "end_time": "2024-05-01T08:33:46.822919Z",
     "start_time": "2024-05-01T08:33:46.818792Z"
    }
   },
   "cell_type": "code",
   "source": "test_target",
   "id": "b0de8aed02692bea",
   "execution_count": 26,
   "outputs": []
  },
  {
   "metadata": {},
   "cell_type": "code",
   "execution_count": null,
   "source": "",
   "id": "98cc9b4dd76bcbfe",
   "outputs": []
  }
 ],
 "metadata": {
  "kernelspec": {
   "display_name": "Python 3",
   "language": "python",
   "name": "python3"
  },
  "language_info": {
   "codemirror_mode": {
    "name": "ipython",
    "version": 2
   },
   "file_extension": ".py",
   "mimetype": "text/x-python",
   "name": "python",
   "nbconvert_exporter": "python",
   "pygments_lexer": "ipython2",
   "version": "2.7.6"
  }
 },
 "nbformat": 4,
 "nbformat_minor": 5
}
