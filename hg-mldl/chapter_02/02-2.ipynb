{
 "cells": [
  {
   "cell_type": "code",
   "id": "initial_id",
   "metadata": {
    "collapsed": true,
    "ExecuteTime": {
     "end_time": "2024-05-03T06:17:35.368948Z",
     "start_time": "2024-05-03T06:17:35.363557Z"
    }
   },
   "source": [
    "fish_length = [25.4, 26.3, 26.5, 29.0, 29.0, 29.7, 29.7, 30.0, 30.0, 30.7, 31.0, 31.0, \n",
    "                31.5, 32.0, 32.0, 32.0, 33.0, 33.0, 33.5, 33.5, 34.0, 34.0, 34.5, 35.0, \n",
    "                35.0, 35.0, 35.0, 36.0, 36.0, 37.0, 38.5, 38.5, 39.5, 41.0, 41.0, 9.8, \n",
    "                10.5, 10.6, 11.0, 11.2, 11.3, 11.8, 11.8, 12.0, 12.2, 12.4, 13.0, 14.3, 15.0]\n",
    "fish_weight = [242.0, 290.0, 340.0, 363.0, 430.0, 450.0, 500.0, 390.0, 450.0, 500.0, 475.0, 500.0, \n",
    "                500.0, 340.0, 600.0, 600.0, 700.0, 700.0, 610.0, 650.0, 575.0, 685.0, 620.0, 680.0, \n",
    "                700.0, 725.0, 720.0, 714.0, 850.0, 1000.0, 920.0, 955.0, 925.0, 975.0, 950.0, 6.7, \n",
    "                7.5, 7.0, 9.7, 9.8, 8.7, 10.0, 9.9, 9.8, 12.2, 13.4, 12.2, 19.7, 19.9]"
   ],
   "execution_count": 1,
   "outputs": []
  },
  {
   "metadata": {
    "ExecuteTime": {
     "end_time": "2024-05-03T06:17:45.382319Z",
     "start_time": "2024-05-03T06:17:45.243295Z"
    }
   },
   "cell_type": "code",
   "source": "import numpy as np",
   "id": "fdb9748d335aa9a5",
   "execution_count": 2,
   "outputs": []
  },
  {
   "metadata": {
    "ExecuteTime": {
     "end_time": "2024-05-03T06:18:14.488737Z",
     "start_time": "2024-05-03T06:18:14.483353Z"
    }
   },
   "cell_type": "code",
   "source": "np.column_stack(([1,2,3], [4,5,6]))",
   "id": "c00060cdca8a7085",
   "execution_count": 3,
   "outputs": []
  },
  {
   "metadata": {
    "ExecuteTime": {
     "end_time": "2024-05-03T06:18:55.632015Z",
     "start_time": "2024-05-03T06:18:55.628881Z"
    }
   },
   "cell_type": "code",
   "source": "fish_data = np.column_stack((fish_length, fish_weight))",
   "id": "1c7022b9463fa216",
   "execution_count": 4,
   "outputs": []
  },
  {
   "metadata": {
    "ExecuteTime": {
     "end_time": "2024-05-03T06:19:05.316226Z",
     "start_time": "2024-05-03T06:19:05.312232Z"
    }
   },
   "cell_type": "code",
   "source": "print(fish_data[:5])",
   "id": "55eb43407c768671",
   "execution_count": 5,
   "outputs": []
  },
  {
   "metadata": {
    "ExecuteTime": {
     "end_time": "2024-05-03T06:19:46.908219Z",
     "start_time": "2024-05-03T06:19:46.904856Z"
    }
   },
   "cell_type": "code",
   "source": "print(np.ones(5))",
   "id": "2c53efcea8bc383d",
   "execution_count": 6,
   "outputs": []
  },
  {
   "metadata": {
    "ExecuteTime": {
     "end_time": "2024-05-03T06:20:52.270183Z",
     "start_time": "2024-05-03T06:20:52.267204Z"
    }
   },
   "cell_type": "code",
   "source": "fish_target = np.concatenate((np.ones(35), np.zeros(14)))",
   "id": "43b979144822c449",
   "execution_count": 7,
   "outputs": []
  },
  {
   "metadata": {
    "ExecuteTime": {
     "end_time": "2024-05-03T06:20:58.442095Z",
     "start_time": "2024-05-03T06:20:58.438917Z"
    }
   },
   "cell_type": "code",
   "source": "print(fish_target)",
   "id": "464f3c0308916561",
   "execution_count": 8,
   "outputs": []
  },
  {
   "metadata": {
    "ExecuteTime": {
     "end_time": "2024-05-03T06:22:16.509856Z",
     "start_time": "2024-05-03T06:22:16.101797Z"
    }
   },
   "cell_type": "code",
   "source": "from sklearn.model_selection import train_test_split",
   "id": "b235a379a611316a",
   "execution_count": 9,
   "outputs": []
  },
  {
   "metadata": {
    "ExecuteTime": {
     "end_time": "2024-05-03T06:23:15.497336Z",
     "start_time": "2024-05-03T06:23:15.493425Z"
    }
   },
   "cell_type": "code",
   "source": "train_input, test_input, train_target, test_target = train_test_split(fish_data, fish_target, random_state=42)",
   "id": "be3bcde27d433a8e",
   "execution_count": 11,
   "outputs": []
  },
  {
   "metadata": {
    "ExecuteTime": {
     "end_time": "2024-05-03T06:24:36.425629Z",
     "start_time": "2024-05-03T06:24:36.422645Z"
    }
   },
   "cell_type": "code",
   "source": "print(train_input.shape, test_input.shape)",
   "id": "9546e911fc40ccfb",
   "execution_count": 12,
   "outputs": []
  },
  {
   "metadata": {
    "ExecuteTime": {
     "end_time": "2024-05-03T06:24:47.631976Z",
     "start_time": "2024-05-03T06:24:47.629031Z"
    }
   },
   "cell_type": "code",
   "source": "print(train_target.shape, test_target.shape)",
   "id": "a26b9e2dfa57899d",
   "execution_count": 13,
   "outputs": []
  },
  {
   "metadata": {
    "ExecuteTime": {
     "end_time": "2024-05-03T06:25:26.640711Z",
     "start_time": "2024-05-03T06:25:26.637530Z"
    }
   },
   "cell_type": "code",
   "source": "print(test_target)",
   "id": "411139218972405c",
   "execution_count": 14,
   "outputs": []
  },
  {
   "metadata": {
    "ExecuteTime": {
     "end_time": "2024-05-03T06:26:43.581570Z",
     "start_time": "2024-05-03T06:26:43.576403Z"
    }
   },
   "cell_type": "code",
   "source": "train_input, test_input, train_target, test_target = train_test_split(fish_data, fish_target, stratify=fish_target, random_state=42)",
   "id": "e68ebcb0827ea1f0",
   "execution_count": 16,
   "outputs": []
  },
  {
   "metadata": {
    "ExecuteTime": {
     "end_time": "2024-05-03T06:26:53.440326Z",
     "start_time": "2024-05-03T06:26:53.436929Z"
    }
   },
   "cell_type": "code",
   "source": "print(test_target)",
   "id": "9770f11972221ac0",
   "execution_count": 17,
   "outputs": []
  },
  {
   "metadata": {
    "ExecuteTime": {
     "end_time": "2024-05-03T06:27:52.491043Z",
     "start_time": "2024-05-03T06:27:52.436859Z"
    }
   },
   "cell_type": "code",
   "source": [
    "from sklearn.neighbors import KNeighborsClassifier\n",
    "kn = KNeighborsClassifier()\n",
    "kn.fit(train_input, train_target)\n",
    "kn.score(test_input, test_target)"
   ],
   "id": "262f6b348963d62c",
   "execution_count": 18,
   "outputs": []
  },
  {
   "metadata": {
    "ExecuteTime": {
     "end_time": "2024-05-03T06:28:10.055138Z",
     "start_time": "2024-05-03T06:28:10.049956Z"
    }
   },
   "cell_type": "code",
   "source": "print(kn.predict([[25, 150]]))",
   "id": "6a83e4bf8c9898f0",
   "execution_count": 19,
   "outputs": []
  },
  {
   "metadata": {
    "ExecuteTime": {
     "end_time": "2024-05-03T06:29:21.887153Z",
     "start_time": "2024-05-03T06:29:21.556915Z"
    }
   },
   "cell_type": "code",
   "source": [
    "import matplotlib.pyplot as plt\n",
    "plt.scatter(train_input[:,0], train_input[:,1])\n",
    "plt.scatter(25, 150, marker='^')\n",
    "plt.xlabel('length')\n",
    "plt.ylabel('weight')\n",
    "plt.show()"
   ],
   "id": "8f58f4275682f1ee",
   "execution_count": 20,
   "outputs": []
  },
  {
   "metadata": {
    "ExecuteTime": {
     "end_time": "2024-05-03T06:30:20.441325Z",
     "start_time": "2024-05-03T06:30:20.437773Z"
    }
   },
   "cell_type": "code",
   "source": "distances, indexes = kn.kneighbors([[25, 150]])",
   "id": "d37c0c03ac69b7ac",
   "execution_count": 21,
   "outputs": []
  },
  {
   "metadata": {
    "ExecuteTime": {
     "end_time": "2024-05-03T06:31:57.042297Z",
     "start_time": "2024-05-03T06:31:56.967367Z"
    }
   },
   "cell_type": "code",
   "source": [
    "plt.scatter(train_input[:,0], train_input[:,1])\n",
    "plt.scatter(25, 150, marker='^')\n",
    "plt.scatter(train_input[indexes, 0], train_input[indexes, 1], marker='D')\n",
    "plt.xlabel('length')\n",
    "plt.ylabel('weight')\n",
    "plt.show()"
   ],
   "id": "c975574c27264b8c",
   "execution_count": 22,
   "outputs": []
  },
  {
   "metadata": {
    "ExecuteTime": {
     "end_time": "2024-05-03T06:32:39.462548Z",
     "start_time": "2024-05-03T06:32:39.459204Z"
    }
   },
   "cell_type": "code",
   "source": "print(train_input[indexes])",
   "id": "354ce74ead867562",
   "execution_count": 23,
   "outputs": []
  },
  {
   "metadata": {
    "ExecuteTime": {
     "end_time": "2024-05-03T06:33:00.171478Z",
     "start_time": "2024-05-03T06:33:00.168100Z"
    }
   },
   "cell_type": "code",
   "source": "print(train_target[indexes])",
   "id": "f2fd87affa1dfa0f",
   "execution_count": 24,
   "outputs": []
  },
  {
   "metadata": {
    "ExecuteTime": {
     "end_time": "2024-05-03T06:34:07.911464Z",
     "start_time": "2024-05-03T06:34:07.908249Z"
    }
   },
   "cell_type": "code",
   "source": "print(distances)",
   "id": "7cf68c42154070be",
   "execution_count": 25,
   "outputs": []
  },
  {
   "metadata": {
    "ExecuteTime": {
     "end_time": "2024-05-03T06:36:10.022142Z",
     "start_time": "2024-05-03T06:36:09.956234Z"
    }
   },
   "cell_type": "code",
   "source": [
    "plt.scatter(train_input[:,0], train_input[:,1])\n",
    "plt.scatter(25, 150, marker='^')\n",
    "plt.scatter(train_input[indexes, 0], train_input[indexes, 1], marker='D')\n",
    "plt.xlim((0, 1000))\n",
    "plt.xlabel('length')\n",
    "plt.ylabel('weight')\n",
    "plt.show()"
   ],
   "id": "4e337d9f347dd28e",
   "execution_count": 26,
   "outputs": []
  },
  {
   "metadata": {
    "ExecuteTime": {
     "end_time": "2024-05-03T06:39:10.324197Z",
     "start_time": "2024-05-03T06:39:10.321130Z"
    }
   },
   "cell_type": "code",
   "source": [
    "mean = np.mean(train_input, axis=0)\n",
    "std = np.std(train_input, axis=0)"
   ],
   "id": "1b5ebb6b76204871",
   "execution_count": 27,
   "outputs": []
  },
  {
   "metadata": {
    "ExecuteTime": {
     "end_time": "2024-05-03T06:39:18.988993Z",
     "start_time": "2024-05-03T06:39:18.985805Z"
    }
   },
   "cell_type": "code",
   "source": "print(mean, std)",
   "id": "b6063a7880b0c898",
   "execution_count": 28,
   "outputs": []
  },
  {
   "metadata": {
    "ExecuteTime": {
     "end_time": "2024-05-03T06:39:49.948129Z",
     "start_time": "2024-05-03T06:39:49.945391Z"
    }
   },
   "cell_type": "code",
   "source": "train_scaled = (train_input - mean) / std",
   "id": "5dbd4ae0cf6432c7",
   "execution_count": 29,
   "outputs": []
  },
  {
   "metadata": {
    "ExecuteTime": {
     "end_time": "2024-05-03T06:40:57.506780Z",
     "start_time": "2024-05-03T06:40:57.434209Z"
    }
   },
   "cell_type": "code",
   "source": [
    "plt.scatter(train_scaled[:,0], train_scaled[:,1])\n",
    "plt.scatter(25, 150, marker='^')\n",
    "plt.xlabel('length')\n",
    "plt.ylabel('weight')\n",
    "plt.show()"
   ],
   "id": "a61344460d3592bd",
   "execution_count": 30,
   "outputs": []
  },
  {
   "metadata": {
    "ExecuteTime": {
     "end_time": "2024-05-03T06:42:31.013410Z",
     "start_time": "2024-05-03T06:42:30.938719Z"
    }
   },
   "cell_type": "code",
   "source": [
    "new = ([25, 150] - mean) / std\n",
    "plt.scatter(train_scaled[:,0], train_scaled[:,1])\n",
    "plt.scatter(new[0], new[1], marker='^')\n",
    "plt.xlabel('length')\n",
    "plt.ylabel('weight')\n",
    "plt.show()"
   ],
   "id": "9522956d07fbf3f2",
   "execution_count": 31,
   "outputs": []
  },
  {
   "metadata": {
    "ExecuteTime": {
     "end_time": "2024-05-03T06:42:49.233021Z",
     "start_time": "2024-05-03T06:42:49.227149Z"
    }
   },
   "cell_type": "code",
   "source": "kn.fit(train_scaled, train_target)",
   "id": "8c883fb4974034d5",
   "execution_count": 32,
   "outputs": []
  },
  {
   "metadata": {
    "ExecuteTime": {
     "end_time": "2024-05-03T06:43:34.082378Z",
     "start_time": "2024-05-03T06:43:34.079633Z"
    }
   },
   "cell_type": "code",
   "source": "test_scaled = (test_input - mean) / std",
   "id": "3a01d8e371424a40",
   "execution_count": 33,
   "outputs": []
  },
  {
   "metadata": {
    "ExecuteTime": {
     "end_time": "2024-05-03T06:43:40.835047Z",
     "start_time": "2024-05-03T06:43:40.826943Z"
    }
   },
   "cell_type": "code",
   "source": "kn.score(test_scaled, test_target)",
   "id": "cac9a45dcb707e45",
   "execution_count": 34,
   "outputs": []
  },
  {
   "metadata": {
    "ExecuteTime": {
     "end_time": "2024-05-03T06:44:06.126571Z",
     "start_time": "2024-05-03T06:44:06.121595Z"
    }
   },
   "cell_type": "code",
   "source": "print(kn.predict([new]))",
   "id": "bbdeeeaac5d701b",
   "execution_count": 36,
   "outputs": []
  },
  {
   "metadata": {
    "ExecuteTime": {
     "end_time": "2024-05-03T06:45:17.074389Z",
     "start_time": "2024-05-03T06:45:16.995544Z"
    }
   },
   "cell_type": "code",
   "source": [
    "distances,indexes = kn.kneighbors([new])\n",
    "plt.scatter(train_scaled[:,0], train_scaled[:,1])\n",
    "plt.scatter(new[0], new[1], marker='^')\n",
    "plt.scatter(train_scaled[indexes, 0], train_scaled[indexes, 1], marker='D')\n",
    "plt.xlabel('length')\n",
    "plt.ylabel('weight')\n",
    "plt.show()"
   ],
   "id": "5a2aaac95bb6814a",
   "execution_count": 37,
   "outputs": []
  },
  {
   "metadata": {},
   "cell_type": "code",
   "execution_count": null,
   "source": "",
   "id": "3e7816feae7f33fa",
   "outputs": []
  }
 ],
 "metadata": {
  "kernelspec": {
   "display_name": "Python 3",
   "language": "python",
   "name": "python3"
  },
  "language_info": {
   "codemirror_mode": {
    "name": "ipython",
    "version": 2
   },
   "file_extension": ".py",
   "mimetype": "text/x-python",
   "name": "python",
   "nbconvert_exporter": "python",
   "pygments_lexer": "ipython2",
   "version": "2.7.6"
  }
 },
 "nbformat": 4,
 "nbformat_minor": 5
}
