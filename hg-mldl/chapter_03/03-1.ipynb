{
 "cells": [
  {
   "cell_type": "code",
   "id": "initial_id",
   "metadata": {
    "collapsed": true,
    "ExecuteTime": {
     "end_time": "2024-05-04T03:27:19.618817Z",
     "start_time": "2024-05-04T03:27:19.477056Z"
    }
   },
   "source": [
    "import numpy as np\n",
    "perch_length = np.array([8.4, 13.7, 15.0, 16.2, 17.4, 18.0, 18.7, 19.0, 19.6, 20.0, 21.0,\n",
    "       21.0, 21.0, 21.3, 22.0, 22.0, 22.0, 22.0, 22.0, 22.5, 22.5, 22.7,\n",
    "       23.0, 23.5, 24.0, 24.0, 24.6, 25.0, 25.6, 26.5, 27.3, 27.5, 27.5,\n",
    "       27.5, 28.0, 28.7, 30.0, 32.8, 34.5, 35.0, 36.5, 36.0, 37.0, 37.0,\n",
    "       39.0, 39.0, 39.0, 40.0, 40.0, 40.0, 40.0, 42.0, 43.0, 43.0, 43.5,\n",
    "       44.0])\n",
    "perch_weight = np.array([5.9, 32.0, 40.0, 51.5, 70.0, 100.0, 78.0, 80.0, 85.0, 85.0, 110.0,\n",
    "       115.0, 125.0, 130.0, 120.0, 120.0, 130.0, 135.0, 110.0, 130.0,\n",
    "       150.0, 145.0, 150.0, 170.0, 225.0, 145.0, 188.0, 180.0, 197.0,\n",
    "       218.0, 300.0, 260.0, 265.0, 250.0, 250.0, 300.0, 320.0, 514.0,\n",
    "       556.0, 840.0, 685.0, 700.0, 700.0, 690.0, 900.0, 650.0, 820.0,\n",
    "       850.0, 900.0, 1015.0, 820.0, 1100.0, 1000.0, 1100.0, 1000.0,\n",
    "       1000.0])"
   ],
   "execution_count": 2,
   "outputs": []
  },
  {
   "metadata": {
    "ExecuteTime": {
     "end_time": "2024-05-04T03:28:13.403716Z",
     "start_time": "2024-05-04T03:28:13.099700Z"
    }
   },
   "cell_type": "code",
   "source": [
    "import matplotlib.pyplot as plt\n",
    "plt.scatter(perch_length, perch_weight)\n",
    "plt.xlabel('length')\n",
    "plt.ylabel('weight')\n",
    "plt.show()"
   ],
   "id": "fe42540c9ab6cbe2",
   "execution_count": 3,
   "outputs": []
  },
  {
   "metadata": {
    "ExecuteTime": {
     "end_time": "2024-05-04T03:29:21.756199Z",
     "start_time": "2024-05-04T03:29:21.316933Z"
    }
   },
   "cell_type": "code",
   "source": [
    "from sklearn.model_selection import train_test_split\n",
    "train_input, test_input, train_target, test_target = train_test_split(perch_length, perch_weight, random_state=42)"
   ],
   "id": "b1200935dd6e8fc9",
   "execution_count": 4,
   "outputs": []
  },
  {
   "metadata": {
    "ExecuteTime": {
     "end_time": "2024-05-04T03:31:11.193055Z",
     "start_time": "2024-05-04T03:31:11.189679Z"
    }
   },
   "cell_type": "code",
   "source": [
    "test_array = np.array([1,2,3,4])\n",
    "print(test_array.shape)"
   ],
   "id": "fa3af245c4a71d52",
   "execution_count": 5,
   "outputs": []
  },
  {
   "metadata": {
    "ExecuteTime": {
     "end_time": "2024-05-04T03:31:34.849016Z",
     "start_time": "2024-05-04T03:31:34.845848Z"
    }
   },
   "cell_type": "code",
   "source": [
    "test_array = test_array.reshape(2, 2)\n",
    "print(test_array.shape)"
   ],
   "id": "30e6e09e8a647c61",
   "execution_count": 6,
   "outputs": []
  },
  {
   "metadata": {
    "ExecuteTime": {
     "end_time": "2024-05-04T03:35:48.347856Z",
     "start_time": "2024-05-04T03:35:48.342992Z"
    }
   },
   "cell_type": "code",
   "source": [
    "train_input = train_input.reshape(-1, 1)\n",
    "test_input = test_input.reshape(-1, 1)\n",
    "print(train_input.shape, test_input.shape)"
   ],
   "id": "44f39b6cf215ff80",
   "execution_count": 7,
   "outputs": []
  },
  {
   "metadata": {
    "ExecuteTime": {
     "end_time": "2024-05-04T03:36:47.718164Z",
     "start_time": "2024-05-04T03:36:47.659880Z"
    }
   },
   "cell_type": "code",
   "source": [
    "from sklearn.neighbors import KNeighborsRegressor\n",
    "knr = KNeighborsRegressor()\n",
    "knr.fit(train_input, train_target)"
   ],
   "id": "a9bd90579eda44fe",
   "execution_count": 8,
   "outputs": []
  },
  {
   "metadata": {
    "ExecuteTime": {
     "end_time": "2024-05-04T03:36:56.335385Z",
     "start_time": "2024-05-04T03:36:56.330572Z"
    }
   },
   "cell_type": "code",
   "source": "print(knr.score(test_input, test_target))",
   "id": "5c7878089f422bf4",
   "execution_count": 9,
   "outputs": []
  },
  {
   "metadata": {
    "ExecuteTime": {
     "end_time": "2024-05-04T03:49:57.088320Z",
     "start_time": "2024-05-04T03:49:57.082286Z"
    }
   },
   "cell_type": "code",
   "source": [
    "from sklearn.metrics import mean_absolute_error\n",
    "test_prediction = knr.predict(test_input)\n",
    "mae = mean_absolute_error(test_target, test_prediction)\n",
    "print(mae)"
   ],
   "id": "3733dc0eaf8d13dc",
   "execution_count": 10,
   "outputs": []
  },
  {
   "metadata": {
    "ExecuteTime": {
     "end_time": "2024-05-04T03:51:09.317902Z",
     "start_time": "2024-05-04T03:51:09.313539Z"
    }
   },
   "cell_type": "code",
   "source": "print(knr.score(train_input, train_target))",
   "id": "f133b922fb18d423",
   "execution_count": 11,
   "outputs": []
  },
  {
   "metadata": {
    "ExecuteTime": {
     "end_time": "2024-05-04T04:30:43.438983Z",
     "start_time": "2024-05-04T04:30:43.434372Z"
    }
   },
   "cell_type": "code",
   "source": [
    "knr.n_neighbors = 3\n",
    "knr.fit(train_input, train_target)\n",
    "print(knr.score(train_input, train_target))"
   ],
   "id": "5b70d018326c301f",
   "execution_count": 15,
   "outputs": []
  },
  {
   "metadata": {
    "ExecuteTime": {
     "end_time": "2024-05-04T04:31:01.934469Z",
     "start_time": "2024-05-04T04:31:01.930201Z"
    }
   },
   "cell_type": "code",
   "source": "print(knr.score(test_input, test_target))",
   "id": "34ac401d2971b28e",
   "execution_count": 16,
   "outputs": []
  },
  {
   "metadata": {},
   "cell_type": "code",
   "execution_count": null,
   "source": "",
   "id": "c6cec12bc71827f9",
   "outputs": []
  }
 ],
 "metadata": {
  "kernelspec": {
   "display_name": "Python 3",
   "language": "python",
   "name": "python3"
  },
  "language_info": {
   "codemirror_mode": {
    "name": "ipython",
    "version": 2
   },
   "file_extension": ".py",
   "mimetype": "text/x-python",
   "name": "python",
   "nbconvert_exporter": "python",
   "pygments_lexer": "ipython2",
   "version": "2.7.6"
  }
 },
 "nbformat": 4,
 "nbformat_minor": 5
}
